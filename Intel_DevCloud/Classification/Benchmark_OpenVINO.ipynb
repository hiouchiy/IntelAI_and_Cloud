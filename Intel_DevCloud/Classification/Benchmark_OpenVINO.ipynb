{
 "cells": [
  {
   "cell_type": "markdown",
   "metadata": {},
   "source": [
    "# Welcome to Jupyter Notebooks on the Intel AI DevCloud! \n",
    "This document covers the basics of the Jupyter Notebook access to the Intel AI DevCloud. It is not a tutorial on the Jupyter Notebook itself. Rather, we will run through a few examples of how to use the computational resources available on the DevCloud *beyond* the notebook.\n",
    "\n",
    "The diagram below illustrates the high-level organization of the DevCloud. This tutorial explains how to navigate this organization. \n",
    "\n",
    "<img src=\"https://access.colfaxresearch.com/images/cluster-jn-organization.svg\" style=\"max-width:600px;\" />\n",
    "\n",
    "\n",
    "## Service Terms\n",
    "\n",
    "By using the Intel AI DevCloud, you are agreeing to the following Service Terms: <br />\n",
    "<a href=\"https://access.colfaxresearch.com/doc/Colfax_Cluster_Service_Terms.pdf\">https://access.colfaxresearch.com/doc/Colfax_Cluster_Service_Terms.pdf</a>"
   ]
  },
  {
   "cell_type": "markdown",
   "metadata": {},
   "source": [
    "# 1. 画像データをダウンロードする\n",
    "どんな画像でもいいですが、とりあえず適当に一枚ダウンロードしておきます。"
   ]
  },
  {
   "cell_type": "code",
   "execution_count": null,
   "metadata": {},
   "outputs": [],
   "source": [
    "!wget https://upload.wikimedia.org/wikipedia/commons/f/f0/Intel_Pentium_II_Overdrive_Engineering_Sample.jpg\n",
    "!mv Intel_Pentium_II_Overdrive_Engineering_Sample.jpg sample.jpg"
   ]
  },
  {
   "cell_type": "markdown",
   "metadata": {},
   "source": [
    "# 2. モデルファイルをOpenVINOのIR形式に変換する"
   ]
  },
  {
   "cell_type": "markdown",
   "metadata": {},
   "source": [
    "ここで使っているモデルファイル「model.pb」は[こちら](https://github.com/hiouchiy/IntelAI_and_Cloud/blob/master/Azure/demo1/model.pb)からダウンロードできます。"
   ]
  },
  {
   "cell_type": "code",
   "execution_count": null,
   "metadata": {},
   "outputs": [],
   "source": [
    "!/opt/intel/openvino/deployment_tools/model_optimizer/mo.py \\\n",
    "--input_model model.pb \\\n",
    "--data_type FP32 \\\n",
    "--output_dir . \\\n",
    "--input_shape [1,224,224,3]"
   ]
  },
  {
   "cell_type": "markdown",
   "metadata": {},
   "source": [
    "# 3. バックエンドにてIRを実行するベンチマークスクリプトをビルド\n",
    "ここでは、OpenVINOの公式？ベンチマークツールを使います。なので、一旦OpenVINOのGit RepoをCloneしてください。"
   ]
  },
  {
   "cell_type": "code",
   "execution_count": null,
   "metadata": {},
   "outputs": [],
   "source": [
    "!git clone https://github.com/opencv/dldt.git"
   ]
  },
  {
   "cell_type": "markdown",
   "metadata": {},
   "source": [
    "次に、Jupyter notebookのHomeからTerminalを開いていただき、下記の手順にてBuildください。\n",
    "\n",
    "- cd dldt/inference-engine/samples/\n",
    "- chmod 755 ./build_samples.sh\n",
    "- ./build_samples.sh"
   ]
  },
  {
   "cell_type": "markdown",
   "metadata": {},
   "source": [
    "# 4. バックエンドで動作するShell Scriptを作成"
   ]
  },
  {
   "cell_type": "code",
   "execution_count": null,
   "metadata": {},
   "outputs": [],
   "source": [
    "%%writefile run.sh\n",
    "\n",
    "# Object detection script writes output to a file inside a directory. We make sure that this directory exists.\n",
    "# The output directory is the first argument of the bash script\n",
    "while getopts 'i:s:r:?' OPTION; do\n",
    "    case \"$OPTION\" in\n",
    "    i)\n",
    "        NUM_ITER=$OPTARG\n",
    "        echo \"using results base $OPTARG\"\n",
    "      ;;\n",
    "    s)\n",
    "        NUM_STREAMS=$OPTARG\n",
    "        echo \"using results base $OPTARG\"\n",
    "      ;;\n",
    "    r)\n",
    "        NUM_INFER_REQS=$OPTARG\n",
    "        echo \"running $OPTARG inference requests\"\n",
    "      ;;\n",
    "    esac  \n",
    "done\n",
    "\n",
    "\n",
    "cd $PBS_O_WORKDIR\n",
    "#cd dldt/inference-engine/tools/benchmark_tool\n",
    "cd inference_engine_samples_samples_build/intel64/Release\n",
    "\n",
    "echo \"* Hello world from compute server `hostname`!\"\n",
    "echo \"* The current directory is ${PWD}.\"\n",
    "echo \"* Compute server's CPU model and number of logical CPUs:\"\n",
    "lscpu\n",
    "echo \"* Python available to us:\"\n",
    "which python\n",
    "python --version\n",
    "\n",
    "#Setup related environment variables\n",
    "source /opt/intel/openvino/bin/setupvars.sh\n",
    "\n",
    "#Install related python libraries\n",
    "pip install networkx defusedxml protobuf py-cpuinfo numpy progress --user\n",
    "\n",
    "#Run python script in parallel\n",
    "#numactl -l python benchmark_app.py -m $PBS_O_WORKDIR/model.xml -i $PBS_O_WORKDIR/sample.jpg -d CPU -niter $NUM_ITER -nireq $NUM_INFER_REQS -nstreams $NUM_STREAMS\n",
    "./benchmark_app -m $PBS_O_WORKDIR/model.badep300_vgg7_32.xml -i $PBS_O_WORKDIR/sample.jpg -d CPU -niter $NUM_ITER -nireq $NUM_INFER_REQS -nstreams $NUM_STREAMS\n",
    "\n",
    "echo \"*Bye\"\n",
    "# Remember to have an empty line at the end of the file; otherwise the last command will not run\n"
   ]
  },
  {
   "cell_type": "markdown",
   "metadata": {},
   "source": [
    "# 5. Job Submit"
   ]
  },
  {
   "cell_type": "code",
   "execution_count": null,
   "metadata": {},
   "outputs": [],
   "source": [
    "#Skylakeを使う場合はこちら\n",
    "#!qsub run.sh -l nodes=1:fpga_compile:ppn=2 -F \"-i 100 -s 1 -r 1\"\n",
    "\n",
    "#Cascade Lakeを使う場合はこちら\n",
    "!qsub run.sh -l nodes=1:experimental:ppn=2 -F \"-i 100 -s 4 -r 4\""
   ]
  },
  {
   "cell_type": "markdown",
   "metadata": {},
   "source": [
    "JobのStatusは下記コマンドにて確認"
   ]
  },
  {
   "cell_type": "code",
   "execution_count": null,
   "metadata": {},
   "outputs": [],
   "source": [
    "!qstat"
   ]
  },
  {
   "cell_type": "markdown",
   "metadata": {},
   "source": [
    "Submit済みのJobを消す場合は下記コマンド"
   ]
  },
  {
   "cell_type": "code",
   "execution_count": null,
   "metadata": {},
   "outputs": [],
   "source": [
    "!qdel JOB_ID"
   ]
  },
  {
   "cell_type": "markdown",
   "metadata": {},
   "source": [
    "# 6. Jobの結果を確認"
   ]
  },
  {
   "cell_type": "markdown",
   "metadata": {},
   "source": [
    "標準出力はoから始まる名前のファイル"
   ]
  },
  {
   "cell_type": "code",
   "execution_count": null,
   "metadata": {},
   "outputs": [],
   "source": [
    "%cat run.sh.o*"
   ]
  },
  {
   "cell_type": "markdown",
   "metadata": {},
   "source": [
    "エラー出力はeから始まる名前のファイル"
   ]
  },
  {
   "cell_type": "code",
   "execution_count": null,
   "metadata": {},
   "outputs": [],
   "source": [
    "%cat run.sh.e*"
   ]
  },
  {
   "cell_type": "markdown",
   "metadata": {},
   "source": [
    "# 以降はおまけ"
   ]
  },
  {
   "cell_type": "code",
   "execution_count": null,
   "metadata": {},
   "outputs": [],
   "source": [
    "!rm run.sh.*"
   ]
  },
  {
   "cell_type": "code",
   "execution_count": null,
   "metadata": {},
   "outputs": [],
   "source": [
    "!echo \"* How many compute servers are available?\"\n",
    "!pbsnodes | grep \"^c\" | wc -l\n",
    "\n",
    "!echo \"* How many of them are free?\"\n",
    "!pbsnodes | grep \"state = free\" | wc -l\n",
    "\n",
    "!echo \"* What are the time limits for queued jobs?\"\n",
    "!qmgr -c 'p q batch' | grep walltime\n",
    "\n",
    "!echo \"* What is the configuration of the available compute servers?\"\n",
    "!pbsnodes | grep properties | sort | uniq"
   ]
  },
  {
   "cell_type": "code",
   "execution_count": null,
   "metadata": {},
   "outputs": [],
   "source": []
  }
 ],
 "metadata": {
  "kernelspec": {
   "display_name": "Python 3 (Intel, 2019 update 2)",
   "language": "python",
   "name": "c009-intel_distribution_of_python_3_2019u2"
  },
  "language_info": {
   "codemirror_mode": {
    "name": "ipython",
    "version": 3
   },
   "file_extension": ".py",
   "mimetype": "text/x-python",
   "name": "python",
   "nbconvert_exporter": "python",
   "pygments_lexer": "ipython3",
   "version": "3.6.8"
  }
 },
 "nbformat": 4,
 "nbformat_minor": 2
}
